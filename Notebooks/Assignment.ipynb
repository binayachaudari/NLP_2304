{
 "cells": [
  {
   "cell_type": "code",
   "execution_count": 1,
   "id": "0f79ec54-e844-4b0d-8730-981b2287b0c6",
   "metadata": {
    "tags": []
   },
   "outputs": [],
   "source": [
    "import pandas as pd\n",
    "\n",
    "import re\n",
    "import matplotlib.pyplot as plt\n",
    "import seaborn as sns\n",
    "import string\n",
    "\n",
    "import nltk\n",
    "\n",
    "from nltk.tokenize import word_tokenize\n",
    "from nltk.stem import WordNetLemmatizer\n",
    "from nltk.corpus import stopwords\n",
    "stopwords_eng = stopwords.words(\"english\")\n",
    "\n",
    "from wordcloud import WordCloud\n",
    "from sklearn.feature_extraction.text import CountVectorizer, TfidfVectorizer\n",
    "\n",
    "from autocorrect import Speller\n",
    "spell = Speller()"
   ]
  },
  {
   "cell_type": "code",
   "execution_count": 2,
   "id": "04aa9b89-d927-4b92-9c4d-ed15ee203c4c",
   "metadata": {
    "tags": []
   },
   "outputs": [],
   "source": [
    "df = pd.read_csv('../DATASET/new_data.csv')"
   ]
  },
  {
   "cell_type": "code",
   "execution_count": 3,
   "id": "0fb9d5f7-a3ba-42e6-8f00-7d4cde10be2c",
   "metadata": {
    "tags": []
   },
   "outputs": [
    {
     "data": {
      "text/html": [
       "<div>\n",
       "<style scoped>\n",
       "    .dataframe tbody tr th:only-of-type {\n",
       "        vertical-align: middle;\n",
       "    }\n",
       "\n",
       "    .dataframe tbody tr th {\n",
       "        vertical-align: top;\n",
       "    }\n",
       "\n",
       "    .dataframe thead th {\n",
       "        text-align: right;\n",
       "    }\n",
       "</style>\n",
       "<table border=\"1\" class=\"dataframe\">\n",
       "  <thead>\n",
       "    <tr style=\"text-align: right;\">\n",
       "      <th></th>\n",
       "      <th>title</th>\n",
       "      <th>Published_on</th>\n",
       "      <th>News_agency</th>\n",
       "      <th>URL</th>\n",
       "      <th>summary</th>\n",
       "      <th>Country</th>\n",
       "      <th>language</th>\n",
       "      <th>tag</th>\n",
       "    </tr>\n",
       "  </thead>\n",
       "  <tbody>\n",
       "    <tr>\n",
       "      <th>0</th>\n",
       "      <td>UN agency pauses Gaza food aid deliveries afte...</td>\n",
       "      <td>Wed, 21 Feb 2024 15:57:00 GMT</td>\n",
       "      <td>The Guardian</td>\n",
       "      <td>https://news.google.com/rss/articles/CBMicWh0d...</td>\n",
       "      <td>UN agency pauses Gaza food aid deliveries afte...</td>\n",
       "      <td>US</td>\n",
       "      <td>en</td>\n",
       "      <td>WORLD</td>\n",
       "    </tr>\n",
       "    <tr>\n",
       "      <th>1</th>\n",
       "      <td>Latest Israel-Hamas war news and Gaza conflict...</td>\n",
       "      <td>Wed, 21 Feb 2024 14:42:17 GMT</td>\n",
       "      <td>The Washington Post</td>\n",
       "      <td>https://news.google.com/rss/articles/CBMiVWh0d...</td>\n",
       "      <td>Latest Israel-Hamas war news and Gaza conflict...</td>\n",
       "      <td>US</td>\n",
       "      <td>en</td>\n",
       "      <td>WORLD</td>\n",
       "    </tr>\n",
       "    <tr>\n",
       "      <th>2</th>\n",
       "      <td>Israel Gaza: China condemns US veto of call fo...</td>\n",
       "      <td>Wed, 21 Feb 2024 12:51:40 GMT</td>\n",
       "      <td>BBC.com</td>\n",
       "      <td>https://news.google.com/rss/articles/CBMiM2h0d...</td>\n",
       "      <td>Israel Gaza: China condemns US veto of call fo...</td>\n",
       "      <td>US</td>\n",
       "      <td>en</td>\n",
       "      <td>WORLD</td>\n",
       "    </tr>\n",
       "    <tr>\n",
       "      <th>3</th>\n",
       "      <td>Navalny’s mother goes to court over officials’...</td>\n",
       "      <td>Wed, 21 Feb 2024 12:48:00 GMT</td>\n",
       "      <td>The Hill</td>\n",
       "      <td>https://news.google.com/rss/articles/CBMiXGh0d...</td>\n",
       "      <td>Navalny’s mother goes to court over officials’...</td>\n",
       "      <td>US</td>\n",
       "      <td>en</td>\n",
       "      <td>WORLD</td>\n",
       "    </tr>\n",
       "    <tr>\n",
       "      <th>4</th>\n",
       "      <td>Police fire tear gas on Indian farmers marchin...</td>\n",
       "      <td>Wed, 21 Feb 2024 11:43:00 GMT</td>\n",
       "      <td>Reuters India</td>\n",
       "      <td>https://news.google.com/rss/articles/CBMia2h0d...</td>\n",
       "      <td>Police fire tear gas on Indian farmers marchin...</td>\n",
       "      <td>US</td>\n",
       "      <td>en</td>\n",
       "      <td>WORLD</td>\n",
       "    </tr>\n",
       "  </tbody>\n",
       "</table>\n",
       "</div>"
      ],
      "text/plain": [
       "                                               title  \\\n",
       "0  UN agency pauses Gaza food aid deliveries afte...   \n",
       "1  Latest Israel-Hamas war news and Gaza conflict...   \n",
       "2  Israel Gaza: China condemns US veto of call fo...   \n",
       "3  Navalny’s mother goes to court over officials’...   \n",
       "4  Police fire tear gas on Indian farmers marchin...   \n",
       "\n",
       "                    Published_on          News_agency  \\\n",
       "0  Wed, 21 Feb 2024 15:57:00 GMT         The Guardian   \n",
       "1  Wed, 21 Feb 2024 14:42:17 GMT  The Washington Post   \n",
       "2  Wed, 21 Feb 2024 12:51:40 GMT              BBC.com   \n",
       "3  Wed, 21 Feb 2024 12:48:00 GMT             The Hill   \n",
       "4  Wed, 21 Feb 2024 11:43:00 GMT        Reuters India   \n",
       "\n",
       "                                                 URL  \\\n",
       "0  https://news.google.com/rss/articles/CBMicWh0d...   \n",
       "1  https://news.google.com/rss/articles/CBMiVWh0d...   \n",
       "2  https://news.google.com/rss/articles/CBMiM2h0d...   \n",
       "3  https://news.google.com/rss/articles/CBMiXGh0d...   \n",
       "4  https://news.google.com/rss/articles/CBMia2h0d...   \n",
       "\n",
       "                                             summary Country language    tag  \n",
       "0  UN agency pauses Gaza food aid deliveries afte...      US       en  WORLD  \n",
       "1  Latest Israel-Hamas war news and Gaza conflict...      US       en  WORLD  \n",
       "2  Israel Gaza: China condemns US veto of call fo...      US       en  WORLD  \n",
       "3  Navalny’s mother goes to court over officials’...      US       en  WORLD  \n",
       "4  Police fire tear gas on Indian farmers marchin...      US       en  WORLD  "
      ]
     },
     "execution_count": 3,
     "metadata": {},
     "output_type": "execute_result"
    }
   ],
   "source": [
    "df.head()"
   ]
  },
  {
   "cell_type": "code",
   "execution_count": 4,
   "id": "183cb34f-1b80-43e9-adea-7cd523e5d597",
   "metadata": {
    "tags": []
   },
   "outputs": [
    {
     "data": {
      "text/plain": [
       "(6393, 8)"
      ]
     },
     "execution_count": 4,
     "metadata": {},
     "output_type": "execute_result"
    }
   ],
   "source": [
    "df.shape"
   ]
  },
  {
   "cell_type": "code",
   "execution_count": 5,
   "id": "119eafda-f678-44fa-bc4a-7cb313e3ae21",
   "metadata": {
    "tags": []
   },
   "outputs": [
    {
     "data": {
      "text/plain": [
       "Index(['title', 'Published_on', 'News_agency', 'URL', 'summary', 'Country',\n",
       "       'language', 'tag'],\n",
       "      dtype='object')"
      ]
     },
     "execution_count": 5,
     "metadata": {},
     "output_type": "execute_result"
    }
   ],
   "source": [
    "df.columns"
   ]
  },
  {
   "cell_type": "code",
   "execution_count": 6,
   "id": "52ab980f-a852-486b-8c4b-b8e498e6c0af",
   "metadata": {
    "tags": []
   },
   "outputs": [
    {
     "data": {
      "text/html": [
       "<div>\n",
       "<style scoped>\n",
       "    .dataframe tbody tr th:only-of-type {\n",
       "        vertical-align: middle;\n",
       "    }\n",
       "\n",
       "    .dataframe tbody tr th {\n",
       "        vertical-align: top;\n",
       "    }\n",
       "\n",
       "    .dataframe thead th {\n",
       "        text-align: right;\n",
       "    }\n",
       "</style>\n",
       "<table border=\"1\" class=\"dataframe\">\n",
       "  <thead>\n",
       "    <tr style=\"text-align: right;\">\n",
       "      <th></th>\n",
       "      <th>title</th>\n",
       "      <th>Published_on</th>\n",
       "      <th>News_agency</th>\n",
       "      <th>URL</th>\n",
       "      <th>summary</th>\n",
       "      <th>Country</th>\n",
       "      <th>language</th>\n",
       "      <th>tag</th>\n",
       "    </tr>\n",
       "  </thead>\n",
       "  <tbody>\n",
       "    <tr>\n",
       "      <th>count</th>\n",
       "      <td>6393</td>\n",
       "      <td>6393</td>\n",
       "      <td>6393</td>\n",
       "      <td>6393</td>\n",
       "      <td>6393</td>\n",
       "      <td>6393</td>\n",
       "      <td>6393</td>\n",
       "      <td>6393</td>\n",
       "    </tr>\n",
       "    <tr>\n",
       "      <th>unique</th>\n",
       "      <td>2866</td>\n",
       "      <td>2557</td>\n",
       "      <td>951</td>\n",
       "      <td>2864</td>\n",
       "      <td>3041</td>\n",
       "      <td>13</td>\n",
       "      <td>1</td>\n",
       "      <td>8</td>\n",
       "    </tr>\n",
       "    <tr>\n",
       "      <th>top</th>\n",
       "      <td>Firefly Aerospace's Alpha rocket put a satelli...</td>\n",
       "      <td>Wed, 21 Feb 2024 09:00:00 GMT</td>\n",
       "      <td>BBC.com</td>\n",
       "      <td>https://news.google.com/rss/articles/CBMiU2h0d...</td>\n",
       "      <td>Ukraine war: Dozens of Russian troops 'die in ...</td>\n",
       "      <td>AU</td>\n",
       "      <td>en</td>\n",
       "      <td>HEALTH</td>\n",
       "    </tr>\n",
       "    <tr>\n",
       "      <th>freq</th>\n",
       "      <td>12</td>\n",
       "      <td>39</td>\n",
       "      <td>231</td>\n",
       "      <td>12</td>\n",
       "      <td>10</td>\n",
       "      <td>518</td>\n",
       "      <td>6393</td>\n",
       "      <td>900</td>\n",
       "    </tr>\n",
       "  </tbody>\n",
       "</table>\n",
       "</div>"
      ],
      "text/plain": [
       "                                                    title  \\\n",
       "count                                                6393   \n",
       "unique                                               2866   \n",
       "top     Firefly Aerospace's Alpha rocket put a satelli...   \n",
       "freq                                                   12   \n",
       "\n",
       "                         Published_on News_agency  \\\n",
       "count                            6393        6393   \n",
       "unique                           2557         951   \n",
       "top     Wed, 21 Feb 2024 09:00:00 GMT     BBC.com   \n",
       "freq                               39         231   \n",
       "\n",
       "                                                      URL  \\\n",
       "count                                                6393   \n",
       "unique                                               2864   \n",
       "top     https://news.google.com/rss/articles/CBMiU2h0d...   \n",
       "freq                                                   12   \n",
       "\n",
       "                                                  summary Country language  \\\n",
       "count                                                6393    6393     6393   \n",
       "unique                                               3041      13        1   \n",
       "top     Ukraine war: Dozens of Russian troops 'die in ...      AU       en   \n",
       "freq                                                   10     518     6393   \n",
       "\n",
       "           tag  \n",
       "count     6393  \n",
       "unique       8  \n",
       "top     HEALTH  \n",
       "freq       900  "
      ]
     },
     "execution_count": 6,
     "metadata": {},
     "output_type": "execute_result"
    }
   ],
   "source": [
    "df.describe()"
   ]
  },
  {
   "cell_type": "code",
   "execution_count": 7,
   "id": "9ee5f521-eacb-47ee-944d-f2aaa474dd86",
   "metadata": {
    "tags": []
   },
   "outputs": [
    {
     "data": {
      "text/plain": [
       "title           0\n",
       "Published_on    0\n",
       "News_agency     0\n",
       "URL             0\n",
       "summary         0\n",
       "Country         0\n",
       "language        0\n",
       "tag             0\n",
       "dtype: int64"
      ]
     },
     "execution_count": 7,
     "metadata": {},
     "output_type": "execute_result"
    }
   ],
   "source": [
    "df.isnull().sum()"
   ]
  },
  {
   "cell_type": "code",
   "execution_count": 8,
   "id": "4cc50a90-563d-4a9e-b7cf-9d01668ab818",
   "metadata": {
    "tags": []
   },
   "outputs": [
    {
     "data": {
      "text/plain": [
       "title           object\n",
       "Published_on    object\n",
       "News_agency     object\n",
       "URL             object\n",
       "summary         object\n",
       "Country         object\n",
       "language        object\n",
       "tag             object\n",
       "dtype: object"
      ]
     },
     "execution_count": 8,
     "metadata": {},
     "output_type": "execute_result"
    }
   ],
   "source": [
    "df.dtypes"
   ]
  },
  {
   "cell_type": "code",
   "execution_count": 9,
   "id": "36a44b32-71b7-4936-9383-34d9db5174b4",
   "metadata": {
    "tags": []
   },
   "outputs": [],
   "source": [
    "df['published_date'] = pd.to_datetime(df['Published_on'])"
   ]
  },
  {
   "cell_type": "code",
   "execution_count": 10,
   "id": "ab9d383c-20e1-40e0-9d77-5b2d8036df7e",
   "metadata": {
    "tags": []
   },
   "outputs": [],
   "source": [
    "df['published_year'] = df['published_date'].dt.year"
   ]
  },
  {
   "cell_type": "code",
   "execution_count": 11,
   "id": "0f5e8771-8238-448c-8711-a6132817cc3d",
   "metadata": {
    "tags": []
   },
   "outputs": [
    {
     "data": {
      "text/plain": [
       "array([2024, 2023, 2022], dtype=int32)"
      ]
     },
     "execution_count": 11,
     "metadata": {},
     "output_type": "execute_result"
    }
   ],
   "source": [
    "df['published_year'].unique()"
   ]
  },
  {
   "cell_type": "code",
   "execution_count": 12,
   "id": "d24060a1-848e-493a-b4b0-db579d47b1f4",
   "metadata": {
    "tags": []
   },
   "outputs": [
    {
     "data": {
      "text/plain": [
       "published_year\n",
       "2024    6300\n",
       "2023      92\n",
       "2022       1\n",
       "Name: count, dtype: int64"
      ]
     },
     "execution_count": 12,
     "metadata": {},
     "output_type": "execute_result"
    }
   ],
   "source": [
    "df['published_year'].value_counts()"
   ]
  },
  {
   "cell_type": "code",
   "execution_count": 13,
   "id": "edcd35ac-8356-488d-b388-477e5a2c1bf1",
   "metadata": {
    "tags": []
   },
   "outputs": [
    {
     "data": {
      "text/plain": [
       "published_year\n",
       "2024    98.545284\n",
       "2023     1.439074\n",
       "2022     0.015642\n",
       "Name: proportion, dtype: float64"
      ]
     },
     "execution_count": 13,
     "metadata": {},
     "output_type": "execute_result"
    }
   ],
   "source": [
    "df['published_year'].value_counts(normalize=True)*100"
   ]
  },
  {
   "cell_type": "code",
   "execution_count": 14,
   "id": "15c26d4d-4a41-455a-be0b-3abb899434c5",
   "metadata": {
    "tags": []
   },
   "outputs": [],
   "source": [
    "df['published_month'] = df['published_date'].dt.month"
   ]
  },
  {
   "cell_type": "code",
   "execution_count": 15,
   "id": "1a95ac54-cd59-49e2-80cb-d1399778bdd1",
   "metadata": {
    "tags": []
   },
   "outputs": [
    {
     "data": {
      "text/plain": [
       "published_month\n",
       "2     97.997810\n",
       "1      0.547474\n",
       "12     0.437979\n",
       "11     0.234632\n",
       "9      0.218990\n",
       "10     0.203347\n",
       "6      0.109495\n",
       "8      0.109495\n",
       "7      0.062568\n",
       "5      0.031284\n",
       "3      0.031284\n",
       "4      0.015642\n",
       "Name: proportion, dtype: float64"
      ]
     },
     "execution_count": 15,
     "metadata": {},
     "output_type": "execute_result"
    }
   ],
   "source": [
    "df['published_month'].value_counts(normalize=True)*100"
   ]
  },
  {
   "cell_type": "code",
   "execution_count": 16,
   "id": "512eafb6-f958-4361-9837-3f6daeb4d07c",
   "metadata": {
    "tags": []
   },
   "outputs": [
    {
     "data": {
      "text/plain": [
       "12"
      ]
     },
     "execution_count": 16,
     "metadata": {},
     "output_type": "execute_result"
    }
   ],
   "source": [
    "df['published_month'].nunique()"
   ]
  },
  {
   "cell_type": "code",
   "execution_count": 17,
   "id": "4a7e18d3-ed4f-418c-bb24-9b16cafc4a51",
   "metadata": {
    "tags": []
   },
   "outputs": [
    {
     "data": {
      "image/png": "[encoded data removed]",
      "text/plain": [
       "<Figure size 1000x600 with 1 Axes>"
      ]
     },
     "metadata": {},
     "output_type": "display_data"
    }
   ],
   "source": [
    "plt.figure(figsize=(10, 6))\n",
    "sns.countplot(data=df, x='published_year')\n",
    "plt.xlabel('Year')\n",
    "plt.ylabel('Frequency')\n",
    "plt.title('News Per Year')\n",
    "plt.show()"
   ]
  },
  {
   "cell_type": "code",
   "execution_count": 18,
   "id": "67e08c60-ae39-4646-a503-89e2a76f182d",
   "metadata": {
    "tags": []
   },
   "outputs": [
    {
     "data": {
      "image/png": "[encoded data removed]",
      "text/plain": [
       "<Figure size 1000x600 with 1 Axes>"
      ]
     },
     "metadata": {},
     "output_type": "display_data"
    }
   ],
   "source": [
    "plt.figure(figsize=(10, 6))\n",
    "sns.countplot(data=df, x='published_month', hue='published_year')\n",
    "plt.xlabel('Year')\n",
    "plt.ylabel('Frequency')\n",
    "plt.title('News Per Month')\n",
    "plt.show()"
   ]
  },
  {
   "cell_type": "code",
   "execution_count": 19,
   "id": "27f205c8-276c-4a25-8b8f-7836c7a2f2e0",
   "metadata": {
    "tags": []
   },
   "outputs": [
    {
     "data": {
      "text/plain": [
       "13"
      ]
     },
     "execution_count": 19,
     "metadata": {},
     "output_type": "execute_result"
    }
   ],
   "source": [
    "df.Country.nunique()"
   ]
  },
  {
   "cell_type": "code",
   "execution_count": 20,
   "id": "ff0ef1ef-7d4e-4974-9c1e-15777368ca34",
   "metadata": {
    "tags": []
   },
   "outputs": [
    {
     "data": {
      "text/plain": [
       "Country\n",
       "AU    8.102612\n",
       "IN    7.930549\n",
       "DE    7.789770\n",
       "FR    7.789770\n",
       "RU    7.789770\n",
       "CN    7.774128\n",
       "BR    7.774128\n",
       "ES    7.758486\n",
       "IT    7.742844\n",
       "JP    7.742844\n",
       "US    7.602065\n",
       "CA    7.539496\n",
       "GB    6.663538\n",
       "Name: proportion, dtype: float64"
      ]
     },
     "execution_count": 20,
     "metadata": {},
     "output_type": "execute_result"
    }
   ],
   "source": [
    "df.Country.value_counts(normalize=True)*100"
   ]
  },
  {
   "cell_type": "code",
   "execution_count": 21,
   "id": "9b2d8bad-3aed-426e-bb16-c3466a4b29cf",
   "metadata": {
    "tags": []
   },
   "outputs": [
    {
     "data": {
      "text/plain": [
       "language\n",
       "en    100.0\n",
       "Name: proportion, dtype: float64"
      ]
     },
     "execution_count": 21,
     "metadata": {},
     "output_type": "execute_result"
    }
   ],
   "source": [
    "df.language.value_counts(normalize=True)*100"
   ]
  },
  {
   "cell_type": "code",
   "execution_count": 22,
   "id": "85851309-78d5-42ed-b979-3dd17460d716",
   "metadata": {
    "tags": []
   },
   "outputs": [
    {
     "data": {
      "image/png": "[encoded data removed]",
      "text/plain": [
       "<Figure size 1000x600 with 1 Axes>"
      ]
     },
     "metadata": {},
     "output_type": "display_data"
    }
   ],
   "source": [
    "plt.figure(figsize=(10, 6))\n",
    "sns.countplot(data=df, x='Country')\n",
    "plt.xlabel('Country')\n",
    "plt.ylabel('Frequency')\n",
    "plt.title('News Per Month')\n",
    "plt.show()"
   ]
  },
  {
   "cell_type": "code",
   "execution_count": 23,
   "id": "7f7062b5-a557-40f7-820c-6da6ca9b810a",
   "metadata": {
    "tags": []
   },
   "outputs": [
    {
     "data": {
      "text/plain": [
       "8"
      ]
     },
     "execution_count": 23,
     "metadata": {},
     "output_type": "execute_result"
    }
   ],
   "source": [
    "df.tag.nunique()"
   ]
  },
  {
   "cell_type": "code",
   "execution_count": 24,
   "id": "a9f84895-bf24-4f43-b6de-bcb78cb59976",
   "metadata": {
    "tags": []
   },
   "outputs": [
    {
     "data": {
      "text/plain": [
       "tag\n",
       "HEALTH           14.077898\n",
       "NATION           13.436571\n",
       "SPORTS           13.405287\n",
       "BUSINESS         13.139371\n",
       "TECHNOLOGY       11.888003\n",
       "SCIENCE          11.684655\n",
       "WORLD            11.356171\n",
       "ENTERTAINMENT    11.012044\n",
       "Name: proportion, dtype: float64"
      ]
     },
     "execution_count": 24,
     "metadata": {},
     "output_type": "execute_result"
    }
   ],
   "source": [
    "df.tag.value_counts(normalize=True)*100"
   ]
  },
  {
   "cell_type": "code",
   "execution_count": 25,
   "id": "6596679c-735f-42dc-a46f-5751c24ed414",
   "metadata": {
    "tags": []
   },
   "outputs": [
    {
     "data": {
      "image/png": "[encoded data removed]",
      "text/plain": [
       "<Figure size 1000x600 with 1 Axes>"
      ]
     },
     "metadata": {},
     "output_type": "display_data"
    }
   ],
   "source": [
    "plt.figure(figsize=(10, 6))\n",
    "sns.countplot(data=df, x='tag')\n",
    "plt.xlabel('Country')\n",
    "plt.ylabel('Frequency')\n",
    "plt.xticks(rotation=45)\n",
    "plt.title('News Per Month')\n",
    "plt.show()"
   ]
  },
  {
   "cell_type": "code",
   "execution_count": 26,
   "id": "264899d0-9199-4be2-b79a-ae867747812c",
   "metadata": {
    "tags": []
   },
   "outputs": [],
   "source": [
    "def clean_text(text): \n",
    "    for agency in df['News_agency'].unique():\n",
    "        agency = re.sub(r'\\(|\\)|\\|', '', agency)\n",
    "        text = re.sub(r'\\(|\\)|\\|', '', text)\n",
    "        text = re.sub(rf'{agency}', ' ', text)\n",
    "    return re.sub(r'[^\\w\\s]', '', text)"
   ]
  },
  {
   "cell_type": "code",
   "execution_count": 27,
   "id": "4645b158-07c8-4126-984e-3e09dde2dd24",
   "metadata": {},
   "outputs": [],
   "source": [
    "def regex_spell_len_fix(text):\n",
    "    return re.sub(r'(.)\\1{2,}', r'\\1\\1', text)"
   ]
  },
  {
   "cell_type": "code",
   "execution_count": 28,
   "id": "70afd502-6007-459c-8729-a9bfc5bcd465",
   "metadata": {
    "tags": []
   },
   "outputs": [],
   "source": [
    "def remove_whitespace(text): \n",
    "    return text.strip()"
   ]
  },
  {
   "cell_type": "code",
   "execution_count": 29,
   "id": "162c6f3b-0ccf-4b5c-97b8-6be52c828260",
   "metadata": {
    "tags": []
   },
   "outputs": [],
   "source": [
    "def convert_to_lowercase(text): \n",
    "    return text.lower()"
   ]
  },
  {
   "cell_type": "code",
   "execution_count": 30,
   "id": "a682b151-5c14-4b7d-9b2c-221634ad0286",
   "metadata": {
    "tags": []
   },
   "outputs": [],
   "source": [
    "def remove_punctuation(text): \n",
    "    return text.translate(str.maketrans('', '', string.punctuation))"
   ]
  },
  {
   "cell_type": "code",
   "execution_count": 31,
   "id": "71b40b49-8a62-4d52-ae51-397516e2ded9",
   "metadata": {
    "tags": []
   },
   "outputs": [],
   "source": [
    "def tokenize(text): \n",
    "    return word_tokenize(text)"
   ]
  },
  {
   "cell_type": "code",
   "execution_count": 32,
   "id": "1fa8f952-48b0-4319-8c23-7ed6b78e143a",
   "metadata": {},
   "outputs": [],
   "source": [
    "def fix_spell(token):\n",
    "    return spell(token)"
   ]
  },
  {
   "cell_type": "code",
   "execution_count": 33,
   "id": "a20d6930-5303-47e5-9387-133e34b81054",
   "metadata": {
    "tags": []
   },
   "outputs": [],
   "source": [
    "def remove_stop_words(tokens): \n",
    "    return [word for word in tokens if word not in stopwords_eng]"
   ]
  },
  {
   "cell_type": "code",
   "execution_count": 34,
   "id": "abecd60a-c14a-43b2-bf59-29055af02c50",
   "metadata": {
    "tags": []
   },
   "outputs": [],
   "source": [
    "lem = WordNetLemmatizer()\n",
    "def lemmatization(tokens):\n",
    "    return [lem.lemmatize(word) for word in tokens]"
   ]
  },
  {
   "cell_type": "code",
   "execution_count": 35,
   "id": "f1aa6193-47d8-44bc-98ee-689b2a42b3f2",
   "metadata": {
    "tags": []
   },
   "outputs": [],
   "source": [
    "def preprocess_pipeline(text): \n",
    "    text = clean_text(text)\n",
    "    text = regex_spell_len_fix(text)\n",
    "    text = fix_spell(text)\n",
    "    text = remove_whitespace(text)\n",
    "    text = convert_to_lowercase(text)\n",
    "    text = remove_punctuation(text)\n",
    "    tokens = tokenize(text)\n",
    "    tokens = remove_stop_words(tokens)\n",
    "    return lemmatization(tokens)"
   ]
  },
  {
   "cell_type": "code",
   "execution_count": null,
   "id": "97bdc92e-435f-4ac1-b7ec-691826196cd5",
   "metadata": {
    "tags": []
   },
   "outputs": [],
   "source": [
    "df['preprocessed_tokens'] = df['summary'].apply(preprocess_pipeline)"
   ]
  },
  {
   "cell_type": "code",
   "execution_count": null,
   "id": "4ccdc298-bd1b-427f-b63d-bcf54884528e",
   "metadata": {
    "tags": []
   },
   "outputs": [],
   "source": [
    "df.head()"
   ]
  },
  {
   "cell_type": "code",
   "execution_count": null,
   "id": "051645cd-d2c7-4948-9bf0-220ba28fa0d4",
   "metadata": {
    "tags": []
   },
   "outputs": [],
   "source": [
    "def join_tokens(tokens): \n",
    "    return ' '.join(tokens)"
   ]
  },
  {
   "cell_type": "code",
   "execution_count": null,
   "id": "831d3fcf-603a-4dbd-8356-27a6a27d9fd2",
   "metadata": {
    "tags": []
   },
   "outputs": [],
   "source": [
    "df['clean_text'] = df['preprocessed_tokens'].apply(join_tokens)"
   ]
  },
  {
   "cell_type": "code",
   "execution_count": null,
   "id": "ea3909fd-efd5-4323-ab13-f5c9d630c339",
   "metadata": {
    "tags": []
   },
   "outputs": [],
   "source": [
    "text = ' '.join(df['clean_text'])\n",
    "\n",
    "plt.figure(figsize = (20,20))\n",
    "\n",
    "wordcloud = WordCloud(max_words = 100 , width = 1000 , height = 1000 , background_color=\"white\").generate(text)\n",
    "\n",
    "plt.imshow(wordcloud, interpolation='bilinear')\n",
    "plt.axis(\"off\")\n",
    "plt.show()"
   ]
  },
  {
   "cell_type": "code",
   "execution_count": null,
   "id": "d62d5dbb-5e1c-4b1e-861e-df507c6d10a7",
   "metadata": {
    "tags": []
   },
   "outputs": [],
   "source": [
    "vectorizer_bow = CountVectorizer()\n",
    "\n",
    "X_bow = vectorizer_bow.fit_transform(df['clean_text'])\n",
    "\n",
    "feature_names_bow = vectorizer_bow.get_feature_names_out()\n",
    "\n",
    "count_word_freq = dict(zip(feature_names_bow, X_bow.toarray().sum(axis=0)))\n",
    "\n",
    "wordcloud_bow = WordCloud(width=800, height=400, background_color='white').generate_from_frequencies(count_word_freq)\n",
    "\n",
    "# Plot the word cloud\n",
    "plt.figure(figsize=(10, 6))\n",
    "plt.imshow(wordcloud_bow, interpolation='bilinear')\n",
    "plt.axis('off')\n",
    "plt.title('Word Cloud - Bag of Words (BoW)')\n",
    "plt.show()"
   ]
  },
  {
   "cell_type": "code",
   "execution_count": null,
   "id": "eedc9f0a-247b-4534-a051-737dde58bc2f",
   "metadata": {
    "tags": []
   },
   "outputs": [],
   "source": [
    "vectorizer_tfidf = TfidfVectorizer()\n",
    "\n",
    "X_tfidf = vectorizer_tfidf.fit_transform(df['clean_text'])\n",
    "\n",
    "feature_names_tfidf = vectorizer_tfidf.get_feature_names_out()\n",
    "\n",
    "tfidf_word_freq = dict(zip(feature_names_tfidf, X_tfidf.toarray().sum(axis=0)))\n",
    "\n",
    "wordcloud_tfidf = WordCloud(width=800, height=400, background_color='white').generate_from_frequencies(tfidf_word_freq)\n",
    "\n",
    "# Plot the word cloud\n",
    "plt.figure(figsize=(10, 6))\n",
    "plt.imshow(wordcloud_tfidf, interpolation='bilinear')\n",
    "plt.axis('off')\n",
    "plt.title('Word Cloud - TF-IDF')\n",
    "plt.show()\n"
   ]
  },
  {
   "cell_type": "code",
   "execution_count": null,
   "id": "f62196e1-b18c-4be4-b951-b2e842376513",
   "metadata": {
    "tags": []
   },
   "outputs": [],
   "source": [
    "df.to_csv('../DATASET/preprocessed/preprocessed_news.csv')"
   ]
  },
  {
   "cell_type": "code",
   "execution_count": null,
   "id": "428673d1-1ff6-476f-bc92-c7b4e6cedf5c",
   "metadata": {
    "tags": []
   },
   "outputs": [],
   "source": [
    "from sklearn.model_selection import train_test_split\n",
    "from sklearn.pipeline import Pipeline\n",
    "\n",
    "from sklearn.feature_extraction.text import CountVectorizer\n",
    "from sklearn.feature_extraction.text import TfidfTransformer\n",
    "from sklearn.feature_extraction.text import TfidfVectorizer\n",
    "\n",
    "\n",
    "from sklearn.linear_model import LogisticRegression\n",
    "from sklearn.naive_bayes import MultinomialNB\n",
    "from sklearn import svm\n",
    "from sklearn.tree import DecisionTreeClassifier\n",
    "from sklearn.ensemble import RandomForestClassifier\n",
    "from sklearn.ensemble import GradientBoostingClassifier\n",
    "from sklearn.neighbors import KNeighborsClassifier\n",
    "\n",
    "\n",
    "\n",
    "from sklearn.metrics import accuracy_score, classification_report, confusion_matrix, ConfusionMatrixDisplay\n",
    "\n",
    "import warnings\n",
    "warnings.filterwarnings('ignore')"
   ]
  },
  {
   "cell_type": "code",
   "execution_count": null,
   "id": "5c88e4ed-ff77-4ea3-b806-d60bd3c7a559",
   "metadata": {
    "tags": []
   },
   "outputs": [],
   "source": [
    "X_train,X_test,y_train,y_test = train_test_split(df['clean_text'], df.tag, test_size=0.3, random_state=42,stratify=df['tag'])"
   ]
  },
  {
   "cell_type": "code",
   "execution_count": null,
   "id": "9a7f6ded-ed63-48da-a860-ea1eeb94e5a7",
   "metadata": {
    "tags": []
   },
   "outputs": [],
   "source": [
    "def display_confusion_matrix(y_true, y_pred, classes):\n",
    "    cm = confusion_matrix(y_true, y_pred, labels=classes)\n",
    "    disp = ConfusionMatrixDisplay(cm, display_labels=classes)\n",
    "    disp.plot(xticks_rotation='vertical')\n",
    "    plt.show()"
   ]
  },
  {
   "cell_type": "code",
   "execution_count": null,
   "id": "5f700d9e-79dc-45b2-9b28-dfd99b4e0e9b",
   "metadata": {
    "tags": []
   },
   "outputs": [],
   "source": [
    "def calculate_scores(model):\n",
    "    pred_train = model.predict(X_train)\n",
    "    pred_test = model.predict(X_test)\n",
    "    print(\"accuracy for Training Set:\", round(accuracy_score(y_train, pred_train)*100,2), \"\\b%\")\n",
    "    print(\"Classification Report for Training Set:\\n\\n\", classification_report(y_train, pred_train))\n",
    "    display_confusion_matrix(y_train, pred_train, model.classes_)\n",
    "    print()\n",
    "    print(\"accuracy for Test Set:\", round(accuracy_score(y_test, pred_test)*100,2), \"\\b%\")\n",
    "    print(\"Classification Report for Test Set:\\n\\n\", classification_report(y_test, pred_test))\n",
    "    display_confusion_matrix(y_test, pred_test, model.classes_)"
   ]
  },
  {
   "cell_type": "code",
   "execution_count": null,
   "id": "72ac8883-429c-4d66-a7e9-a88068878aa0",
   "metadata": {
    "tags": []
   },
   "outputs": [],
   "source": [
    "# combining two different vectorization method \n",
    "rfc = Pipeline([('vect', CountVectorizer()),\n",
    "                 ('model', RandomForestClassifier(n_estimators=1000,\n",
    "                                                  criterion=\"gini\"))])\n",
    "\n",
    "rfc_model = rfc.fit(X_train, y_train)\n",
    "calculate_scores(rfc_model)"
   ]
  },
  {
   "cell_type": "code",
   "execution_count": null,
   "id": "5a78f239-d9a3-470a-ac79-1270811346b7",
   "metadata": {
    "tags": []
   },
   "outputs": [],
   "source": [
    "# using TFidf vectorization method \n",
    "tfidf_pipeline = Pipeline([\n",
    "    ('tfidf', TfidfVectorizer()),  # TF-IDF vectorizer\n",
    "    ('classifier', RandomForestClassifier(random_state=42))  # Example classifier\n",
    "])\n",
    "\n",
    "rfc_tfidf_model = tfidf_pipeline.fit(X_train, y_train)\n",
    "calculate_scores(rfc_tfidf_model)"
   ]
  },
  {
   "cell_type": "code",
   "execution_count": null,
   "id": "754ea5d3-95c6-4475-b023-531d426417e0",
   "metadata": {
    "tags": []
   },
   "outputs": [],
   "source": [
    "lr = Pipeline([('vect', CountVectorizer()),\n",
    "               ('model', LogisticRegression(penalty='l2',\n",
    "                                            C=1,\n",
    "                                            solver='saga',\n",
    "                                            multi_class='multinomial',\n",
    "                                            max_iter=1000,\n",
    "                                            class_weight='balanced'))])\n",
    "\n",
    "lr_model = lr.fit(X_train, y_train)\n",
    "\n",
    "calculate_scores(lr_model)"
   ]
  },
  {
   "cell_type": "code",
   "execution_count": null,
   "id": "df381bdd-3476-44b4-a1bf-9b14f8521683",
   "metadata": {
    "tags": []
   },
   "outputs": [],
   "source": [
    "lr = Pipeline([('tfidf', TfidfVectorizer()),\n",
    "               ('model', LogisticRegression(penalty='l2',\n",
    "                                            C=1,\n",
    "                                            solver='saga',\n",
    "                                            multi_class='multinomial',\n",
    "                                            max_iter=1000,\n",
    "                                            class_weight='balanced'))])\n",
    "\n",
    "lr_model = lr.fit(X_train, y_train)\n",
    "calculate_scores(lr_model)"
   ]
  },
  {
   "cell_type": "code",
   "execution_count": null,
   "id": "a2b645da-b8ec-4bf7-83ad-8ccae5e98ae4",
   "metadata": {
    "tags": []
   },
   "outputs": [],
   "source": [
    "sv = Pipeline([('vect', CountVectorizer()),\n",
    "               ('model', svm.SVC(kernel='linear',\n",
    "                                 C=1.0,\n",
    "                                 max_iter=5000))])\n",
    "\n",
    "sv_model = sv.fit(X_train, y_train)\n",
    "\n",
    "calculate_scores(sv_model)"
   ]
  },
  {
   "cell_type": "code",
   "execution_count": null,
   "id": "edc13482-99ab-46cf-b228-4c7e7b615a3c",
   "metadata": {
    "tags": []
   },
   "outputs": [],
   "source": [
    "sv = Pipeline([('tfidf', TfidfVectorizer()),\n",
    "               ('model', svm.SVC(kernel='linear',\n",
    "                                 C=1.0,\n",
    "                                 max_iter=5000))])\n",
    "\n",
    "sv_model = sv.fit(X_train, y_train)\n",
    "\n",
    "calculate_scores(sv_model)"
   ]
  },
  {
   "cell_type": "code",
   "execution_count": null,
   "id": "6424dff7-e97f-4bd4-9cf5-00b15bb035f2",
   "metadata": {
    "tags": []
   },
   "outputs": [],
   "source": [
    "test = '''\n",
    "\n",
    "ERS-2, a vintage satellite launched in 1995, is expected to re-enter Earth’s atmosphere today before landing in the ocean.\n",
    "\n",
    "Scientists are currently tracking the course of the decommissioned satellite, expecting most of it to burn up during re-entry.\n",
    "\n",
    "While the satellite will break up around 80km above Earth, there’s a chance that some of the satellite's fragments will also crash into the ocean.\n",
    "\n",
    "However, the European Space Agency (ESA) isn’t concerned, reminding people that there’s just a one in 100 billion chance of a human being injured by space debris.\n",
    "\n",
    "'''\n",
    "preprocessed_text = preprocess_pipeline(test)\n",
    "print(' '.join(preprocessed_text))"
   ]
  },
  {
   "cell_type": "code",
   "execution_count": null,
   "id": "fd6e823f-9186-4d1a-8a62-fb4a314b463a",
   "metadata": {
    "tags": []
   },
   "outputs": [],
   "source": [
    "sv_pred = sv_model.predict([' '.join(preprocessed_text)])"
   ]
  },
  {
   "cell_type": "code",
   "execution_count": null,
   "id": "ec7c13fa-a572-4e94-af71-c0ef1fc4d138",
   "metadata": {
    "tags": []
   },
   "outputs": [],
   "source": [
    "sv_pred"
   ]
  },
  {
   "cell_type": "code",
   "execution_count": null,
   "id": "605950ac-3aa8-4deb-8ded-77e025eb2cc6",
   "metadata": {
    "tags": []
   },
   "outputs": [],
   "source": []
  },
  {
   "cell_type": "code",
   "execution_count": null,
   "id": "bfcc4ba0-b9dc-4310-b650-bb0b6542773d",
   "metadata": {},
   "outputs": [],
   "source": []
  }
 ],
 "metadata": {
  "kernelspec": {
   "display_name": "Python 3 (ipykernel)",
   "language": "python",
   "name": "python3"
  },
  "language_info": {
   "codemirror_mode": {
    "name": "ipython",
    "version": 3
   },
   "file_extension": ".py",
   "mimetype": "text/x-python",
   "name": "python",
   "nbconvert_exporter": "python",
   "pygments_lexer": "ipython3",
   "version": "3.11.5"
  }
 },
 "nbformat": 4,
 "nbformat_minor": 5
}
